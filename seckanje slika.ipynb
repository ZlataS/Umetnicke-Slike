{
 "cells": [
  {
   "cell_type": "code",
   "execution_count": 8,
   "id": "a20532b3",
   "metadata": {},
   "outputs": [],
   "source": [
    "import torch\n",
    "import torchvision\n",
    "import matplotlib.pyplot as plt\n",
    "import numpy as np\n",
    "import pandas as pd\n",
    "import random\n",
    "import shutil\n",
    "from geomloss import SamplesLoss\n",
    "import cv2\n",
    "import sys"
   ]
  },
  {
   "cell_type": "code",
   "execution_count": 13,
   "id": "a73f2a23",
   "metadata": {},
   "outputs": [],
   "source": [
    "imagesPath = 'C:/Users/zlata/Desktop/predlog_projekta_2021/DCGANgenerisane2/'"
   ]
  },
  {
   "cell_type": "code",
   "execution_count": 14,
   "id": "f74099a1",
   "metadata": {},
   "outputs": [],
   "source": [
    "for i in range(1,4):\n",
    "    image_file = imagesPath + str(i)+\".jpg\"\n",
    "    img = cv2.imread(image_file)\n",
    "    h = 64\n",
    "    w = 64\n",
    "    for j in range(0,8):\n",
    "        for k in range(0,8):\n",
    "            #img2 = img[j*h+(j+1)*2:j*(h+1)+(j+1)*2, k*w + (k+1)*2:(k+1)*w + (k+1)*2]\n",
    "            y = j*h + (j+1)*2\n",
    "            x = k*w + (k+1)*2\n",
    "            crop_img = img[y:y+h, x:x+w]\n",
    "            cv2.imwrite('C:/Users/zlata/Desktop/predlog_projekta_2021/InceptionScoreLandscapeBaseDCGAN/'+ str((i-1)*64+j*8+k+1+768)+\".jpg\", crop_img)\n",
    "            k+=1\n",
    "        j+=1"
   ]
  }
 ],
 "metadata": {
  "kernelspec": {
   "display_name": "Python 3",
   "language": "python",
   "name": "python3"
  },
  "language_info": {
   "codemirror_mode": {
    "name": "ipython",
    "version": 3
   },
   "file_extension": ".py",
   "mimetype": "text/x-python",
   "name": "python",
   "nbconvert_exporter": "python",
   "pygments_lexer": "ipython3",
   "version": "3.8.8"
  }
 },
 "nbformat": 4,
 "nbformat_minor": 5
}
