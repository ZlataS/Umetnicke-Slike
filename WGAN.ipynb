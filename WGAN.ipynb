{
 "cells": [
  {
   "cell_type": "code",
   "execution_count": 1,
   "id": "6c8851e7",
   "metadata": {},
   "outputs": [],
   "source": [
    "import torch\n",
    "import torch.nn as nn\n",
    "import torch.optim as optim\n",
    "import torchvision\n",
    "import torchvision.datasets as datasets\n",
    "import torchvision.transforms as transforms\n",
    "from torch.utils.data import DataLoader\n",
    "from torch.utils.tensorboard import SummaryWriter\n",
    "import matplotlib.pyplot as plt\n",
    "import numpy as np\n",
    "import torchvision.utils as vutils\n",
    "from __future__ import print_function\n",
    "import argparse\n",
    "import os\n",
    "import random\n",
    "import torch.nn.parallel\n",
    "import torch.backends.cudnn as cudnn\n",
    "import torch.optim as optim\n",
    "import torchvision.utils as vutils\n",
    "import matplotlib.animation as animation\n",
    "from IPython.display import HTML\n",
    "import cv2\n",
    "import sys\n",
    "from PIL import Image"
   ]
  },
  {
   "cell_type": "code",
   "execution_count": 2,
   "id": "1c0424d8",
   "metadata": {},
   "outputs": [],
   "source": [
    "class Critic(nn.Module):\n",
    "  def __init__(self, channels_img, features_d):\n",
    "    super(Critic, self).__init__()\n",
    "    self.critic = nn.Sequential(\n",
    "        #input: N x channels_img x 64 x 64\n",
    "        nn.Conv2d(channels_img, features_d, kernel_size=4, stride=2, padding=1),\n",
    "        nn.LeakyReLU(0.2),\n",
    "\n",
    "        #self._block(self, in_channels, out_channels, kernel_size, stride, padding)\n",
    "        self._block(features_d, features_d * 2, 4, 2, 1),\n",
    "        self._block(features_d * 2, features_d * 4, 4, 2, 1),\n",
    "        self._block(features_d * 4, features_d * 8, 4, 2, 1),\n",
    "\n",
    "        #After all _block image size is 4x4 (convolution below make it into a 1x1)\n",
    "        nn.Conv2d(features_d * 8, 1, kernel_size=4, stride=2, padding=0)\n",
    "    )\n",
    "\n",
    "\n",
    "  def _block(self, in_channels, out_channels, kernel_size, stride, padding):\n",
    "    return nn.Sequential(\n",
    "        nn.Conv2d(\n",
    "          in_channels,\n",
    "          out_channels,\n",
    "          kernel_size,\n",
    "          stride,\n",
    "          padding,\n",
    "          bias=False\n",
    "        ),\n",
    "        nn.InstanceNorm2d(out_channels, affine=True),\n",
    "        nn.LeakyReLU(0.2)   \n",
    "      )\n",
    "    \n",
    "  def forward(self, x):\n",
    "    return self.critic(x)"
   ]
  },
  {
   "cell_type": "code",
   "execution_count": 3,
   "id": "88d50956",
   "metadata": {},
   "outputs": [],
   "source": [
    "class Generator(nn.Module):\n",
    "  def __init__(self,  z_dim, channels_img, features_g):\n",
    "    super(Generator, self).__init__()\n",
    "    self.gen = nn.Sequential(\n",
    "        #input: N x z_dim x 1 X 1\n",
    "        #self._block(self, in_channels, out_channels, kernel_size, stride, padding)\n",
    "        self._block(z_dim, features_g * 16, 4, 1, 0),\n",
    "        self._block(features_g * 16, features_g * 8, 4, 2, 1),\n",
    "        self._block(features_g * 8, features_g * 4, 4, 2, 1),\n",
    "        self._block(features_g * 4, features_g * 2, 4, 2, 1),\n",
    "\n",
    "        nn.ConvTranspose2d(features_g * 2, channels_img, kernel_size=4, stride=2, padding=1),\n",
    "\n",
    "        #Output: img N x channels_img x 64 x 64\n",
    "\n",
    "        nn.Tanh() #[-1, 1]\n",
    "    )\n",
    "\n",
    "\n",
    "  def _block(self, in_channels, out_channels, kernel_size, stride, padding):\n",
    "    return nn.Sequential(\n",
    "      nn.ConvTranspose2d(\n",
    "        in_channels,\n",
    "        out_channels,\n",
    "        kernel_size,\n",
    "        stride,\n",
    "        padding,\n",
    "        bias=False\n",
    "      ),\n",
    "      nn.BatchNorm2d(out_channels),\n",
    "      nn.ReLU()   \n",
    "  )\n",
    "    \n",
    "  def forward(self, x):\n",
    "    return self.gen(x)"
   ]
  },
  {
   "cell_type": "code",
   "execution_count": 4,
   "id": "c7d68c51",
   "metadata": {},
   "outputs": [],
   "source": [
    "def initialize_weights(model):\n",
    "  for m in model.modules():\n",
    "    if isinstance(m, (nn.Conv2d, nn.ConvTranspose2d, nn.BatchNorm2d)):\n",
    "      nn.init.normal_(m.weight.data, 0.0, 0.02)"
   ]
  },
  {
   "cell_type": "code",
   "execution_count": 5,
   "id": "32f3c086",
   "metadata": {},
   "outputs": [],
   "source": [
    "def test():\n",
    "  N, in_channels, H, W = 8, 3, 64, 64\n",
    "  z_dim = 100\n",
    "  x = torch.randn((N, in_channels, H, W))\n",
    "\n",
    "  critic = Critic(in_channels, 8)\n",
    "  initialize_weights(critic)\n",
    "  assert critic(x).shape == (N, 1, 1, 1), \"Critic test failed\"\n",
    "  print(\"Critic test successfull\")\n",
    "\n",
    "  gen = Generator(z_dim, in_channels, 8)\n",
    "  initialize_weights(gen)\n",
    "  z = torch.randn((N, z_dim, 1, 1))\n",
    "  assert gen(z).shape == (N, in_channels, H, W), \"Generator test failed\"\n",
    "  print(\"Generator test successfull\")\n",
    "  print(\"Test succesfull\")"
   ]
  },
  {
   "cell_type": "code",
   "execution_count": 6,
   "id": "40508ba5",
   "metadata": {},
   "outputs": [],
   "source": [
    "def gradient_penalty(critic, real, fake, device):\n",
    "  BATCH_SIZE, C, H, W = real.shape\n",
    "  epsilon = torch.rand((BATCH_SIZE, 1, 1, 1)).repeat(1, C, H, W).to(device)\n",
    "  interpolated_images = real * epsilon + fake * (1 - epsilon)\n",
    "\n",
    "  #Calculate Critic scores\n",
    "  mixed_scores = critic(interpolated_images)\n",
    "\n",
    "  gradient = torch.autograd.grad(\n",
    "      inputs=interpolated_images,\n",
    "      outputs=mixed_scores,\n",
    "      grad_outputs=torch.ones_like(mixed_scores),\n",
    "      create_graph=True,\n",
    "      retain_graph=True\n",
    "  )[0]\n",
    "  \n",
    "  gradient = gradient.view(gradient.shape[0], -1)\n",
    "  gradient_norm = gradient.norm(2, dim=1)\n",
    "  gradient_penalty = torch.mean((gradient_norm - 1) ** 2)\n",
    "  \n",
    "  return gradient_penalty"
   ]
  },
  {
   "cell_type": "code",
   "execution_count": 7,
   "id": "b0992fed",
   "metadata": {},
   "outputs": [],
   "source": [
    "device = torch.device(\"cuda\" if torch.cuda.is_available() else \"cpu\")"
   ]
  },
  {
   "cell_type": "code",
   "execution_count": 8,
   "id": "c534b59b",
   "metadata": {},
   "outputs": [],
   "source": [
    "LEARNING_RATE_GEN = 1e-4  # could also use two lrs, one for gen and one for critic\n",
    "LEARNING_RATE_CRITIC = 1e-4 \n",
    "BATCH_SIZE = 1\n",
    "IMAGE_SIZE = 64\n",
    "CHANNELS_IMG = 3\n",
    "Z_DIM = 100\n",
    "NUM_EPOCHS = 5\n",
    "FEATURES_CRITIC = 64\n",
    "FEATURES_GEN = 64\n",
    "CRITIC_ITERATIONS = 5\n",
    "LAMBDA_GP = 10"
   ]
  },
  {
   "cell_type": "code",
   "execution_count": 9,
   "id": "3d283e07",
   "metadata": {},
   "outputs": [],
   "source": [
    "transform = transforms.Compose(\n",
    "    [\n",
    "        transforms.Resize(IMAGE_SIZE),\n",
    "        transforms.ToTensor(),\n",
    "        transforms.Normalize([0.5 for _ in range(CHANNELS_IMG)], [0.5 for _ in range(CHANNELS_IMG)])\n",
    "    ]\n",
    ")"
   ]
  },
  {
   "cell_type": "code",
   "execution_count": 10,
   "id": "9d372684",
   "metadata": {},
   "outputs": [],
   "source": [
    "dataroot = \"C:/Users/zlata/base_landscape\"\n",
    "dataset = datasets.ImageFolder(root=dataroot,transform=transform)\n",
    "dataloader = torch.utils.data.DataLoader(dataset, batch_size=BATCH_SIZE, shuffle=True)"
   ]
  },
  {
   "cell_type": "code",
   "execution_count": 11,
   "id": "4043fb3c",
   "metadata": {},
   "outputs": [
    {
     "data": {
      "text/plain": [
       "'|===========================================================================|\\n|                  PyTorch CUDA memory summary, device ID 0                 |\\n|---------------------------------------------------------------------------|\\n|            CUDA OOMs: 0            |        cudaMalloc retries: 0         |\\n|===========================================================================|\\n|        Metric         | Cur Usage  | Peak Usage | Tot Alloc  | Tot Freed  |\\n|---------------------------------------------------------------------------|\\n| Allocated memory      |       0 B  |       0 B  |       0 B  |       0 B  |\\n|       from large pool |       0 B  |       0 B  |       0 B  |       0 B  |\\n|       from small pool |       0 B  |       0 B  |       0 B  |       0 B  |\\n|---------------------------------------------------------------------------|\\n| Active memory         |       0 B  |       0 B  |       0 B  |       0 B  |\\n|       from large pool |       0 B  |       0 B  |       0 B  |       0 B  |\\n|       from small pool |       0 B  |       0 B  |       0 B  |       0 B  |\\n|---------------------------------------------------------------------------|\\n| GPU reserved memory   |       0 B  |       0 B  |       0 B  |       0 B  |\\n|       from large pool |       0 B  |       0 B  |       0 B  |       0 B  |\\n|       from small pool |       0 B  |       0 B  |       0 B  |       0 B  |\\n|---------------------------------------------------------------------------|\\n| Non-releasable memory |       0 B  |       0 B  |       0 B  |       0 B  |\\n|       from large pool |       0 B  |       0 B  |       0 B  |       0 B  |\\n|       from small pool |       0 B  |       0 B  |       0 B  |       0 B  |\\n|---------------------------------------------------------------------------|\\n| Allocations           |       0    |       0    |       0    |       0    |\\n|       from large pool |       0    |       0    |       0    |       0    |\\n|       from small pool |       0    |       0    |       0    |       0    |\\n|---------------------------------------------------------------------------|\\n| Active allocs         |       0    |       0    |       0    |       0    |\\n|       from large pool |       0    |       0    |       0    |       0    |\\n|       from small pool |       0    |       0    |       0    |       0    |\\n|---------------------------------------------------------------------------|\\n| GPU reserved segments |       0    |       0    |       0    |       0    |\\n|       from large pool |       0    |       0    |       0    |       0    |\\n|       from small pool |       0    |       0    |       0    |       0    |\\n|---------------------------------------------------------------------------|\\n| Non-releasable allocs |       0    |       0    |       0    |       0    |\\n|       from large pool |       0    |       0    |       0    |       0    |\\n|       from small pool |       0    |       0    |       0    |       0    |\\n|===========================================================================|\\n'"
      ]
     },
     "execution_count": 11,
     "metadata": {},
     "output_type": "execute_result"
    }
   ],
   "source": [
    "torch.cuda.empty_cache() \n",
    "import gc\n",
    "gc.collect()\n",
    "torch.cuda.memory_summary(device=None, abbreviated=False)"
   ]
  },
  {
   "cell_type": "code",
   "execution_count": 12,
   "id": "6545f7ee",
   "metadata": {},
   "outputs": [
    {
     "data": {
      "text/plain": [
       "Critic(\n",
       "  (critic): Sequential(\n",
       "    (0): Conv2d(3, 64, kernel_size=(4, 4), stride=(2, 2), padding=(1, 1))\n",
       "    (1): LeakyReLU(negative_slope=0.2)\n",
       "    (2): Sequential(\n",
       "      (0): Conv2d(64, 128, kernel_size=(4, 4), stride=(2, 2), padding=(1, 1), bias=False)\n",
       "      (1): InstanceNorm2d(128, eps=1e-05, momentum=0.1, affine=True, track_running_stats=False)\n",
       "      (2): LeakyReLU(negative_slope=0.2)\n",
       "    )\n",
       "    (3): Sequential(\n",
       "      (0): Conv2d(128, 256, kernel_size=(4, 4), stride=(2, 2), padding=(1, 1), bias=False)\n",
       "      (1): InstanceNorm2d(256, eps=1e-05, momentum=0.1, affine=True, track_running_stats=False)\n",
       "      (2): LeakyReLU(negative_slope=0.2)\n",
       "    )\n",
       "    (4): Sequential(\n",
       "      (0): Conv2d(256, 512, kernel_size=(4, 4), stride=(2, 2), padding=(1, 1), bias=False)\n",
       "      (1): InstanceNorm2d(512, eps=1e-05, momentum=0.1, affine=True, track_running_stats=False)\n",
       "      (2): LeakyReLU(negative_slope=0.2)\n",
       "    )\n",
       "    (5): Conv2d(512, 1, kernel_size=(4, 4), stride=(2, 2))\n",
       "  )\n",
       ")"
      ]
     },
     "execution_count": 12,
     "metadata": {},
     "output_type": "execute_result"
    }
   ],
   "source": [
    "gen = Generator(Z_DIM, CHANNELS_IMG, FEATURES_GEN)\n",
    "critic = Critic(CHANNELS_IMG, FEATURES_CRITIC)\n",
    "gen.to(device)\n",
    "critic.to(device)"
   ]
  },
  {
   "cell_type": "code",
   "execution_count": 13,
   "id": "fbbd6540",
   "metadata": {},
   "outputs": [
    {
     "data": {
      "text/plain": [
       "Critic(\n",
       "  (critic): Sequential(\n",
       "    (0): Conv2d(3, 64, kernel_size=(4, 4), stride=(2, 2), padding=(1, 1))\n",
       "    (1): LeakyReLU(negative_slope=0.2)\n",
       "    (2): Sequential(\n",
       "      (0): Conv2d(64, 128, kernel_size=(4, 4), stride=(2, 2), padding=(1, 1), bias=False)\n",
       "      (1): InstanceNorm2d(128, eps=1e-05, momentum=0.1, affine=True, track_running_stats=False)\n",
       "      (2): LeakyReLU(negative_slope=0.2)\n",
       "    )\n",
       "    (3): Sequential(\n",
       "      (0): Conv2d(128, 256, kernel_size=(4, 4), stride=(2, 2), padding=(1, 1), bias=False)\n",
       "      (1): InstanceNorm2d(256, eps=1e-05, momentum=0.1, affine=True, track_running_stats=False)\n",
       "      (2): LeakyReLU(negative_slope=0.2)\n",
       "    )\n",
       "    (4): Sequential(\n",
       "      (0): Conv2d(256, 512, kernel_size=(4, 4), stride=(2, 2), padding=(1, 1), bias=False)\n",
       "      (1): InstanceNorm2d(512, eps=1e-05, momentum=0.1, affine=True, track_running_stats=False)\n",
       "      (2): LeakyReLU(negative_slope=0.2)\n",
       "    )\n",
       "    (5): Conv2d(512, 1, kernel_size=(4, 4), stride=(2, 2))\n",
       "  )\n",
       ")"
      ]
     },
     "execution_count": 13,
     "metadata": {},
     "output_type": "execute_result"
    }
   ],
   "source": [
    "initialize_weights(gen)\n",
    "initialize_weights(critic)\n",
    "opt_gen = optim.Adam(gen.parameters(), lr=LEARNING_RATE_GEN, betas=(0.0, 0.9))\n",
    "opt_critic = optim.Adam(critic.parameters(), lr=LEARNING_RATE_CRITIC, betas=(0.0, 0.9))\n",
    "fixed_noise = torch.randn(32,Z_DIM, 1, 1).to(device)\n",
    "writer_real = SummaryWriter(f\"logs/real\")\n",
    "writer_fake = SummaryWriter(f\"logs/fake\")\n",
    "step = 0\n",
    "gen.train()\n",
    "critic.train()"
   ]
  },
  {
   "cell_type": "code",
   "execution_count": 15,
   "id": "fa5f81a9",
   "metadata": {},
   "outputs": [
    {
     "data": {
      "text/plain": [
       "<matplotlib.image.AxesImage at 0x15afff371f0>"
      ]
     },
     "execution_count": 15,
     "metadata": {},
     "output_type": "execute_result"
    },
    {
     "data": {
      "image/png": "[encoded data removed]",
      "text/plain": [
       "<Figure size 576x576 with 1 Axes>"
      ]
     },
     "metadata": {
      "needs_background": "light"
     },
     "output_type": "display_data"
    }
   ],
   "source": [
    "real_batch = next(iter(dataloader))\n",
    "plt.figure(figsize=(8,8))\n",
    "plt.axis(\"off\")\n",
    "plt.title(\"Training Images\")\n",
    "plt.imshow(np.transpose(vutils.make_grid(real_batch[0].to(device)[:64], padding=2, normalize=True).cpu(),(1,2,0)))"
   ]
  },
  {
   "cell_type": "code",
   "execution_count": 16,
   "id": "04a52f0e",
   "metadata": {},
   "outputs": [],
   "source": [
    "z = torch.randn(64, Z_DIM, 1, 1).to(device)"
   ]
  },
  {
   "cell_type": "code",
   "execution_count": 17,
   "id": "0f1edff4",
   "metadata": {},
   "outputs": [
    {
     "data": {
      "text/plain": [
       "<matplotlib.image.AxesImage at 0x15a84117730>"
      ]
     },
     "execution_count": 17,
     "metadata": {},
     "output_type": "execute_result"
    },
    {
     "data": {
      "image/png": "[encoded data removed]",
      "text/plain": [
       "<Figure size 576x576 with 1 Axes>"
      ]
     },
     "metadata": {
      "needs_background": "light"
     },
     "output_type": "display_data"
    }
   ],
   "source": [
    "fake_batch = gen(z)\n",
    "plt.figure(figsize=(8,8))\n",
    "plt.axis(\"off\")\n",
    "plt.title(\"Training Images\")\n",
    "plt.imshow(np.transpose(vutils.make_grid(fake_batch[0].to(device)[:64], padding=2, normalize=True).cpu(),(1,2,0)))"
   ]
  },
  {
   "cell_type": "code",
   "execution_count": 22,
   "id": "fb4e8a8c",
   "metadata": {},
   "outputs": [],
   "source": [
    "img_list = []\n",
    "img_list_fixed = []\n",
    "G_losses = [] #loss funkcija za G\n",
    "D_losses = [] #loss funkcija za D\n",
    "D_real = [] #broj tacno pogodjenih realnih slika\n",
    "D_fake = [] #broj tacno pogodjenih fejk slika\n",
    "iters = 0\n",
    "noise =  torch.randn(64, Z_DIM, 1, 1).to(device)"
   ]
  },
  {
   "cell_type": "code",
   "execution_count": null,
   "id": "0974fd3d",
   "metadata": {
    "scrolled": true
   },
   "outputs": [
    {
     "name": "stdout",
     "output_type": "stream",
     "text": [
      "Starting Training Loop...\n",
      "Epoch [0/5] Batch 0/30012 \\ Loss D: 417.5515, loss G: 3.0518\n",
      "Epoch [0/5] Batch 100/30012 \\ Loss D: -45.3320, loss G: 53.8416\n",
      "Epoch [0/5] Batch 200/30012 \\ Loss D: -16.3718, loss G: 65.2323\n",
      "Epoch [0/5] Batch 300/30012 \\ Loss D: -76.0708, loss G: 65.0603\n",
      "Epoch [0/5] Batch 400/30012 \\ Loss D: -26.1830, loss G: 70.6627\n",
      "Epoch [0/5] Batch 500/30012 \\ Loss D: -75.1418, loss G: 89.0461\n",
      "Epoch [0/5] Batch 600/30012 \\ Loss D: -40.7908, loss G: 81.6196\n",
      "Epoch [0/5] Batch 700/30012 \\ Loss D: -40.2163, loss G: 97.3286\n",
      "Epoch [0/5] Batch 800/30012 \\ Loss D: -32.9038, loss G: 65.8285\n",
      "Epoch [0/5] Batch 900/30012 \\ Loss D: -97.5285, loss G: 89.1699\n",
      "Epoch [0/5] Batch 1000/30012 \\ Loss D: -27.8213, loss G: 45.9105\n",
      "Epoch [0/5] Batch 1100/30012 \\ Loss D: -88.0678, loss G: 126.8617\n",
      "Epoch [0/5] Batch 1200/30012 \\ Loss D: -114.2167, loss G: 57.7347\n",
      "Epoch [0/5] Batch 1300/30012 \\ Loss D: -187.9064, loss G: 123.7651\n",
      "Epoch [0/5] Batch 1400/30012 \\ Loss D: -144.0453, loss G: 83.8300\n",
      "Epoch [0/5] Batch 1500/30012 \\ Loss D: -77.8447, loss G: 59.2994\n",
      "Epoch [0/5] Batch 1600/30012 \\ Loss D: -131.8997, loss G: 87.4132\n",
      "Epoch [0/5] Batch 1700/30012 \\ Loss D: -51.9768, loss G: 94.3485\n",
      "Epoch [0/5] Batch 1800/30012 \\ Loss D: -69.8070, loss G: 87.4203\n",
      "Epoch [0/5] Batch 1900/30012 \\ Loss D: -40.8432, loss G: 87.7912\n",
      "Epoch [0/5] Batch 2000/30012 \\ Loss D: -31.1660, loss G: 104.0080\n",
      "Epoch [0/5] Batch 2100/30012 \\ Loss D: -90.4168, loss G: 111.1215\n",
      "Epoch [0/5] Batch 2200/30012 \\ Loss D: -82.4905, loss G: 139.4348\n",
      "Epoch [0/5] Batch 2300/30012 \\ Loss D: -131.9983, loss G: 148.6336\n",
      "Epoch [0/5] Batch 2400/30012 \\ Loss D: -75.6733, loss G: 67.9364\n",
      "Epoch [0/5] Batch 2500/30012 \\ Loss D: -47.9094, loss G: 111.1712\n",
      "Epoch [0/5] Batch 2600/30012 \\ Loss D: -199.4527, loss G: 165.2351\n",
      "Epoch [0/5] Batch 2700/30012 \\ Loss D: -42.1835, loss G: 102.2967\n",
      "Epoch [0/5] Batch 2800/30012 \\ Loss D: -77.1459, loss G: 100.6307\n",
      "Epoch [0/5] Batch 2900/30012 \\ Loss D: -53.2154, loss G: 127.0372\n",
      "Epoch [0/5] Batch 3000/30012 \\ Loss D: -93.2512, loss G: 122.0473\n",
      "Epoch [0/5] Batch 3100/30012 \\ Loss D: -212.8367, loss G: 150.0010\n",
      "Epoch [0/5] Batch 3200/30012 \\ Loss D: -133.1890, loss G: 148.7056\n",
      "Epoch [0/5] Batch 3300/30012 \\ Loss D: -50.3143, loss G: 127.8854\n",
      "Epoch [0/5] Batch 3400/30012 \\ Loss D: -24.7198, loss G: 89.5558\n",
      "Epoch [0/5] Batch 3500/30012 \\ Loss D: 1.9561, loss G: 63.2703\n",
      "Epoch [0/5] Batch 3600/30012 \\ Loss D: -70.9802, loss G: 140.3114\n",
      "Epoch [0/5] Batch 3700/30012 \\ Loss D: -21.0757, loss G: 119.1181\n",
      "Epoch [0/5] Batch 3800/30012 \\ Loss D: -59.8470, loss G: 109.9214\n",
      "Epoch [0/5] Batch 3900/30012 \\ Loss D: -23.5024, loss G: 145.5313\n"
     ]
    }
   ],
   "source": [
    "print(\"Starting Training Loop...\")\n",
    "for epoch in range(NUM_EPOCHS):\n",
    "\n",
    "  z_test = torch.randn(64, Z_DIM, 1, 1).to(device)\n",
    "  fake_batch_test = gen(z_test)\n",
    "  plt.figure(figsize=(8,8))\n",
    "  plt.axis(\"off\")\n",
    "  plt.title(\"Training Images\")\n",
    "  plt.imshow(np.transpose(vutils.make_grid(fake_batch_test[0].to(device)[:64], padding=2, normalize=True).cpu(),(1,2,0)))\n",
    "\n",
    "  for batch_index, (real, _) in enumerate(dataloader):\n",
    "      real = real.to(device)\n",
    "      z = torch.randn(BATCH_SIZE, Z_DIM, 1, 1).to(device)\n",
    "      fake = gen(z)\n",
    "      fake_fixed = gen(noise)\n",
    "      for _ in range (CRITIC_ITERATIONS):\n",
    "          z = torch.randn(BATCH_SIZE, Z_DIM, 1, 1).to(device)\n",
    "          fake = gen(z)\n",
    "\n",
    "          critic_real = critic(real).reshape(-1)\n",
    "          critic_fake = critic(fake.detach()).reshape(-1)\n",
    "\n",
    "          gp = gradient_penalty(critic, real, fake, device)\n",
    "          \n",
    "          loss_critic = -(torch.mean(critic_real) - torch.mean(critic_fake)) + LAMBDA_GP * gp\n",
    "          critic.zero_grad()\n",
    "          loss_critic.backward(retain_graph=True)\n",
    "          opt_critic.step()\n",
    "\n",
    "      output = critic(fake).reshape(-1)\n",
    "      loss_gen = -torch.mean(output)\n",
    "\n",
    "      gen.zero_grad()\n",
    "      loss_gen.backward()\n",
    "      opt_gen.step()\n",
    "    \n",
    "      if batch_index % 100 == 0:\n",
    "        print(f\"Epoch [{epoch}/{NUM_EPOCHS}] Batch {batch_index}/{len(dataloader)} \\ Loss D: {loss_critic:.4f}, loss G: {loss_gen:.4f}\")\n",
    "      \n",
    "      # Save Losses for plotting later\n",
    "      G_losses.append(loss_gen.item())\n",
    "      D_losses.append(loss_critic.item())\n",
    "    \n",
    "      D_real.append((torch.mean(critic_real)).item())\n",
    "      D_fake.append((torch.mean(critic_fake)).item())\n",
    "        # Check how the generator is doing by saving G's output on fixed_noise\n",
    "        \n",
    "      if (iters % 500 == 0) or ((epoch == NUM_EPOCHS-1) and (i == len(dataloader)-1)):\n",
    "        with torch.no_grad():\n",
    "            fake = fake.detach().cpu()\n",
    "            fake_fixed = fake.detach().cpu()\n",
    "            img_list.append(vutils.make_grid(fake, padding=2, normalize=True))\n",
    "            img_list_fixed.append(vutils.make_grid(fake, padding=2, normalize = True))\n",
    "      iters += 1"
   ]
  },
  {
   "cell_type": "code",
   "execution_count": null,
   "id": "3c8c8a5f",
   "metadata": {},
   "outputs": [],
   "source": [
    "real_batch = next(iter(dataloader))\n",
    "\n",
    "# Plot the real images\n",
    "plt.figure(figsize=(15,15))\n",
    "plt.subplot(1,2,1)\n",
    "plt.axis(\"off\")\n",
    "plt.title(\"Real Images\")\n",
    "plt.imshow(np.transpose(vutils.make_grid(real_batch[0].to(device)[:64], padding=5, normalize=True).cpu(),(1,2,0)))\n",
    "\n",
    "# Plot the fake images from the last epoch\n",
    "plt.subplot(1,2,2)\n",
    "plt.axis(\"off\")\n",
    "plt.title(\"Fake Images\")\n",
    "plt.imshow(np.transpose(img_list[-1],(1,2,0)))\n",
    "plt.show()"
   ]
  },
  {
   "cell_type": "code",
   "execution_count": null,
   "id": "86cd2230",
   "metadata": {},
   "outputs": [],
   "source": [
    "plt.figure(figsize=(15,7))\n",
    "plt.title(\"Generator and Discriminator Loss During Training\")\n",
    "plt.plot(G_losses,label=\"G\")\n",
    "plt.plot(D_losses,label=\"D\")\n",
    "plt.xlabel(\"iterations\")\n",
    "plt.ylabel(\"Loss\")\n",
    "plt.legend()\n",
    "plt.show()"
   ]
  },
  {
   "cell_type": "code",
   "execution_count": null,
   "id": "b163bd1c",
   "metadata": {},
   "outputs": [],
   "source": [
    "plt.figure(figsize=(15,7))\n",
    "plt.title(\"Discriminator's guesses on real and fake images\")\n",
    "plt.plot(D_real,label=\"Real\")\n",
    "plt.plot(D_fake,label=\"Fake\")\n",
    "plt.xlabel(\"iterations\")\n",
    "plt.ylabel(\"Loss\")\n",
    "plt.legend()\n",
    "plt.show()"
   ]
  },
  {
   "cell_type": "code",
   "execution_count": null,
   "id": "7b8f6237",
   "metadata": {},
   "outputs": [],
   "source": [
    "#generating images for further evaluation\n",
    "image_list = []\n",
    "iters = 0\n",
    "for batch_index, (real, _) in enumerate(dataloader):\n",
    "    while (iters < 200):\n",
    "      real = real.to(device)\n",
    "      for _ in range (CRITIC_ITERATIONS):\n",
    "          z = torch.randn(BATCH_SIZE, Z_DIM, 1, 1).to(device)\n",
    "          fake = gen(z)\n",
    "    \n",
    "      if batch_index % 100 == 0:\n",
    "        print(f\"Batch {batch_index}/{len(dataloader)}\")\n",
    "        \n",
    "      if (iters < 500 == 0) or ((epoch == NUM_EPOCHS-1) and (i == len(dataloader)-1)):\n",
    "        with torch.no_grad():\n",
    "            fake = fake.detach().cpu()\n",
    "            image_list.append(vutils.make_grid(fake, padding=2, normalize=True))\n",
    "      iters += 1"
   ]
  },
  {
   "cell_type": "code",
   "execution_count": null,
   "id": "8072bfcc",
   "metadata": {},
   "outputs": [],
   "source": [
    "#downloading the generated images\n",
    "for i in range(1,200):\n",
    "    image = np.transpose(img_list[-1*i],(1,2,0))\n",
    "    image = image*255\n",
    "    image  = image.cpu().numpy() # make sure tensor is on cpu\n",
    "    image2 = cv2.cvtColor(image, cv2.COLOR_BGR2RGB)\n",
    "    \n",
    "    cv2.imwrite('C:/Users/zlata/pictures_for_evaluation/WGAN/'+str(i)+'.jpg', image2)"
   ]
  },
  {
   "cell_type": "code",
   "execution_count": 14,
   "id": "846d4aac",
   "metadata": {},
   "outputs": [],
   "source": [
    "import gc\n",
    "\n",
    "gc.collect()\n",
    "\n",
    "torch.cuda.empty_cache()\n",
    "\n"
   ]
  }
 ],
 "metadata": {
  "kernelspec": {
   "display_name": "Python 3",
   "language": "python",
   "name": "python3"
  },
  "language_info": {
   "codemirror_mode": {
    "name": "ipython",
    "version": 3
   },
   "file_extension": ".py",
   "mimetype": "text/x-python",
   "name": "python",
   "nbconvert_exporter": "python",
   "pygments_lexer": "ipython3",
   "version": "3.8.8"
  }
 },
 "nbformat": 4,
 "nbformat_minor": 5
}
