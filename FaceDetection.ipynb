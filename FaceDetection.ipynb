{
 "cells": [
  {
   "cell_type": "code",
   "execution_count": 2,
   "id": "67978840",
   "metadata": {},
   "outputs": [],
   "source": [
    "import torch\n",
    "import torchvision\n",
    "import matplotlib.pyplot as plt\n",
    "import numpy as np\n",
    "import pandas as pd\n",
    "import random\n",
    "import shutil\n",
    "from geomloss import SamplesLoss\n",
    "import cv2\n",
    "import sys"
   ]
  },
  {
   "cell_type": "code",
   "execution_count": 3,
   "id": "c6afa8c9",
   "metadata": {},
   "outputs": [],
   "source": [
    "portraits_path = \"C:\\\\Users\\\\zlata\\\\images\\\\portrait\"\n",
    "fil_info_portrait = pd.read_csv('C:\\\\Users\\\\zlata\\\\filteredportrait.csv')"
   ]
  },
  {
   "cell_type": "code",
   "execution_count": 4,
   "id": "e2c6fd50",
   "metadata": {},
   "outputs": [],
   "source": [
    "n = fil_info_portrait['filename'].values"
   ]
  },
  {
   "cell_type": "code",
   "execution_count": null,
   "id": "1bd05a24",
   "metadata": {},
   "outputs": [],
   "source": [
    "imagesPath = 'C:/Users/zlata/images/portrait/'\n",
    "cascPath = 'C:/Users/zlata/haarcascade_frontalface_default.xml'\n",
    "\n",
    "H_SCALAR = 1.25\n",
    "W_SCALAR = 1.25\n",
    "\n",
    "j = 1\n",
    "\n",
    "for indeks in fil_info_portrait['filename'].values:\n",
    "        face_cascade = cv2.CascadeClassifier(cascPath)\n",
    "        image_file = 'C:/Users/zlata/images/portrait/'+ indeks\n",
    "        img = cv2.imread(image_file)\n",
    "        gray = cv2.cvtColor(img, cv2.COLOR_BGR2GRAY)\n",
    "        faces = face_cascade.detectMultiScale(gray, 1.03,10)\n",
    "        if len(faces) > 0:\n",
    "            \n",
    "            (x, y, w, h) = faces[0]\n",
    "            #cv2.rectangle(img, (x, y), (x + w, y + h), (255, 0, 0), 2)\n",
    "            img = img[y:int(y + h * H_SCALAR), x:int(x + w * W_SCALAR)]\n",
    "            img = cv2.resize(img, (64,64))\n",
    "            cv2.imwrite('C:/Users/zlata/portrait_resized/'+ str(j)+\".jpg\", img)\n",
    "            j += 1\n",
    "        #axes[j].imshow(img[:, :, ::-1])\n",
    "        #axes[j].set_title(\"Art: \" + random_art.replace('_', ' '))\n",
    "        #axes[j].axis('off')\n",
    "        "
   ]
  }
 ],
 "metadata": {
  "kernelspec": {
   "display_name": "Python 3",
   "language": "python",
   "name": "python3"
  },
  "language_info": {
   "codemirror_mode": {
    "name": "ipython",
    "version": 3
   },
   "file_extension": ".py",
   "mimetype": "text/x-python",
   "name": "python",
   "nbconvert_exporter": "python",
   "pygments_lexer": "ipython3",
   "version": "3.8.8"
  }
 },
 "nbformat": 4,
 "nbformat_minor": 5
}
